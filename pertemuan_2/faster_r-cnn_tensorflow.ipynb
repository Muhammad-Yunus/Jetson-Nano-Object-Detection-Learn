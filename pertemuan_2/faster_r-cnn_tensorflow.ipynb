{
 "metadata": {
  "language_info": {
   "codemirror_mode": {
    "name": "ipython",
    "version": 3
   },
   "file_extension": ".py",
   "mimetype": "text/x-python",
   "name": "python",
   "nbconvert_exporter": "python",
   "pygments_lexer": "ipython3",
   "version": "3.6.9-final"
  },
  "orig_nbformat": 2,
  "kernelspec": {
   "name": "python3",
   "display_name": "Python 3",
   "language": "python"
  }
 },
 "nbformat": 4,
 "nbformat_minor": 2,
 "cells": [
  {
   "cell_type": "code",
   "execution_count": 1,
   "metadata": {},
   "outputs": [],
   "source": [
    "import cv2\n",
    "import tensorflow as tf"
   ]
  },
  {
   "cell_type": "code",
   "execution_count": 2,
   "metadata": {},
   "outputs": [],
   "source": [
    "from utils import Utils\n",
    "\n",
    "utils = Utils()"
   ]
  },
  {
   "cell_type": "code",
   "execution_count": 3,
   "metadata": {},
   "outputs": [
    {
     "output_type": "stream",
     "name": "stdout",
     "text": [
      "number of class : 80\n"
     ]
    }
   ],
   "source": [
    "import json\n",
    "classesFile = \"coco.json\"\n",
    "with open(classesFile) as json_labels:\n",
    "    classes = json.load(json_labels)\n",
    "    \n",
    "print(\"number of class :\", len(classes))"
   ]
  },
  {
   "cell_type": "code",
   "execution_count": 10,
   "metadata": {},
   "outputs": [],
   "source": [
    "frcnn = tf.saved_model.load(\"model/ssaved_model/\")"
   ]
  },
  {
   "cell_type": "code",
   "execution_count": null,
   "metadata": {},
   "outputs": [],
   "source": [
    "img = cv2.imread(\"cow.jpg\")\n",
    "\n",
    "input_tensor = np.expand_dims(img, 0)"
   ]
  },
  {
   "cell_type": "code",
   "execution_count": null,
   "metadata": {},
   "outputs": [],
   "source": [
    "detections = frcnn(input_tensor)"
   ]
  },
  {
   "cell_type": "code",
   "execution_count": null,
   "metadata": {},
   "outputs": [],
   "source": [
    "idx = np.argmax(outputs[0, 0, 0, :, 2] > 0.3)\n",
    "class_idx = str(int(detections['detection_classes'][0].numpy()[idx]) - 1)\n",
    "confidence = detections['detection_scores'][0].numpy()[idx]\n",
    "box = detections['detection_boxes'][0].numpy()[idx]"
   ]
  },
  {
   "cell_type": "code",
   "execution_count": null,
   "metadata": {},
   "outputs": [],
   "source": [
    "label = \"%s (%.2f%%)\" % (classes[class_idx], confidence)\n",
    "\n",
    "y0, x0, yt, xt = (box*img.shape[0]).astype(int)\n",
    "\n",
    "img = utils.draw_ped(img, label, x0, y0, xt, yt, font_size=0.8)\n",
    "\n",
    "plt.figure(figsize=(15,15))\n",
    "plt.imshow(img[:,:,::-1])"
   ]
  },
  {
   "cell_type": "code",
   "execution_count": null,
   "metadata": {},
   "outputs": [],
   "source": []
  }
 ]
}