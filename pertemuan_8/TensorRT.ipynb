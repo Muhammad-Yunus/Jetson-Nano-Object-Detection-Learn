{
 "metadata": {
  "language_info": {
   "codemirror_mode": {
    "name": "ipython",
    "version": 3
   },
   "file_extension": ".py",
   "mimetype": "text/x-python",
   "name": "python",
   "nbconvert_exporter": "python",
   "pygments_lexer": "ipython3",
   "version": "3.6.9-final"
  },
  "orig_nbformat": 2,
  "kernelspec": {
   "name": "python3",
   "display_name": "Python 3",
   "language": "python"
  }
 },
 "nbformat": 4,
 "nbformat_minor": 2,
 "cells": [
  {
   "source": [
    "# Tensor \n",
    "### 1. Install `Protobuf compiler`"
   ],
   "cell_type": "markdown",
   "metadata": {}
  },
  {
   "cell_type": "code",
   "execution_count": null,
   "metadata": {},
   "outputs": [],
   "source": [
    "! ./install_protobuf-3.8.0.sh"
   ]
  },
  {
   "source": [
    "### 2. Install the dependencies for Python."
   ],
   "cell_type": "markdown",
   "metadata": {}
  },
  {
   "cell_type": "code",
   "execution_count": null,
   "metadata": {},
   "outputs": [],
   "source": [
    "! export CPATH=$CPATH:/usr/local/cuda-10.2/targets/aarch64-linux/include\n",
    "! export LIBRARY_PATH=$LIBRARY_PATH:/usr/local/cuda-10.2/targets/aarch64-linux/lib\n",
    "! python3 -m pip install -r requirements.txt"
   ]
  },
  {
   "source": [
    "### 3. Download Yolo Model"
   ],
   "cell_type": "markdown",
   "metadata": {}
  },
  {
   "cell_type": "code",
   "execution_count": null,
   "metadata": {},
   "outputs": [],
   "source": [
    "# ! wget https://pjreddie.com/media/files/yolov3-tiny.weights -O model/yolov3-tiny.weights\n",
    "! wget https://pjreddie.com/media/files/yolov3.weights -O model/yolov3.weights"
   ]
  },
  {
   "source": [
    "### 4. Create an ONNX version of YOLOv3 with the following command."
   ],
   "cell_type": "markdown",
   "metadata": {}
  },
  {
   "cell_type": "code",
   "execution_count": 6,
   "metadata": {
    "tags": []
   },
   "outputs": [
    {
     "output_type": "stream",
     "name": "stdout",
     "text": [
      "Layer of type yolo not supported, skipping ONNX node generation.\n",
      "Layer of type yolo not supported, skipping ONNX node generation.\n",
      "Layer of type yolo not supported, skipping ONNX node generation.\n",
      "mv: cannot stat 'yolov3.onnx': No such file or directory\n"
     ]
    }
   ],
   "source": [
    "! python3 yolov3_onnx/yolov3_to_onnx.py\n",
    "! mv yolov3.onnx model/"
   ]
  },
  {
   "source": [
    "### 5. Build a TensorRT engine from the generated ONNX file and run inference on a sample image"
   ],
   "cell_type": "markdown",
   "metadata": {}
  },
  {
   "cell_type": "code",
   "execution_count": 5,
   "metadata": {},
   "outputs": [
    {
     "output_type": "stream",
     "name": "stdout",
     "text": [
      "reading images/family-bike-ride.jpg ... \n",
      "Reading engine from file model/yolov3.trt\n",
      "Running inference on image images/family-bike-ride.jpg...\n",
      "[[670.76326833  86.71847944 264.49231476 569.05479253]\n",
      " [465.89895837 105.88661249 161.05314073 312.39096515]\n",
      " [267.76070301 107.12850042 241.56135075 393.81798365]\n",
      " [172.36814146  63.64848415 158.4722583  257.67809855]\n",
      " [650.68803106 340.34568471 252.66623065 333.12504057]\n",
      " [473.76313158 244.37971019 133.898831   294.68462261]\n",
      " [298.68605072 236.81993442 162.23201664 416.56729884]\n",
      " [176.87959371 217.99930187 135.3460317  300.40808276]] [0.99982025 0.99644598 0.98133057 0.89932222 0.99598539 0.99173784\n",
      " 0.97432912 0.96990219] [0 0 0 0 1 1 1 1]\n",
      "Saved image with bounding boxes of detected objects to images_bboxes.png.\n"
     ]
    }
   ],
   "source": [
    "! python3 yolov3_onnx/onnx_to_tensorrt.py --image_path images/family-bike-ride.jpg"
   ]
  },
  {
   "cell_type": "code",
   "execution_count": 4,
   "metadata": {},
   "outputs": [
    {
     "output_type": "stream",
     "name": "stdout",
     "text": [
      "model/yolov3.trt\n"
     ]
    }
   ],
   "source": [
    "! mv yolov3.trt model/\n",
    "! ls model/yolov3.trt"
   ]
  },
  {
   "source": [
    "# Source\n",
    "- https://github.com/NVIDIA/TensorRT/tree/master/samples/python/yolov3_onnx\n",
    "- https://forums.developer.nvidia.com/t/pycuda-installation-failure-on-jetson-nano/77152/20\n",
    "- https://docs.nvidia.com/deeplearning/tensorrt/developer-guide/index.html#python_topics"
   ],
   "cell_type": "markdown",
   "metadata": {}
  }
 ]
}