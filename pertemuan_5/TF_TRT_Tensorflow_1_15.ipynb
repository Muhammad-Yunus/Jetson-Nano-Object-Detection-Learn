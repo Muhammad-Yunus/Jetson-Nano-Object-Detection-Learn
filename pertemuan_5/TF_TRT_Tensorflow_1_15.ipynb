{
  "nbformat": 4,
  "nbformat_minor": 0,
  "metadata": {
    "colab": {
      "name": "TF-TRT Tensorflow 1.15.ipynb",
      "provenance": [],
      "collapsed_sections": []
    },
    "kernelspec": {
      "name": "python3",
      "display_name": "Python 3"
    },
    "accelerator": "GPU"
  },
  "cells": [
    {
      "cell_type": "markdown",
      "metadata": {
        "id": "gZ60N3dmwccQ"
      },
      "source": [
        "## Install Tensorflow 1.15"
      ]
    },
    {
      "cell_type": "code",
      "metadata": {
        "id": "AvJ68A2_KCzv"
      },
      "source": [
        "! apt-get install libhdf5-serial-dev hdf5-tools libhdf5-dev zlib1g-dev zip libjpeg8-dev liblapack-dev libblas-dev gfortran\r\n",
        "! pip3 install -U numpy==1.16.1 future==0.18.2 mock==3.0.5 h5py==2.10.0 keras_preprocessing==1.1.1 keras_applications==1.0.8 gast==0.2.2 futures protobuf pybind11\r\n",
        "! sudo pip3 install --pre --extra-index-url https://developer.download.nvidia.com/compute/redist/jp/v45 'tensorflow<2'"
      ],
      "execution_count": null,
      "outputs": []
    },
    {
      "cell_type": "markdown",
      "metadata": {
        "id": "cLLZdzg1HImg"
      },
      "source": [
        "## Install TensorRT Runtime"
      ]
    },
    {
      "cell_type": "code",
      "metadata": {
        "id": "CDqbnKf_HA4Q"
      },
      "source": [
        "%%bash\r\n",
        "wget https://developer.download.nvidia.com/compute/machine-learning/repos/ubuntu1804/x86_64/nvidia-machine-learning-repo-ubuntu1804_1.0.0-1_amd64.deb\r\n",
        "\r\n",
        "dpkg -i nvidia-machine-learning-repo-*.deb\r\n",
        "apt-get update\r\n",
        "\r\n",
        "sudo apt-get install libnvinfer5"
      ],
      "execution_count": null,
      "outputs": []
    },
    {
      "cell_type": "markdown",
      "metadata": {
        "id": "T2wxQ1PZwif8"
      },
      "source": [
        "## Clone TF-TRT Models"
      ]
    },
    {
      "cell_type": "code",
      "metadata": {
        "id": "jdhGIJX1K5xp"
      },
      "source": [
        "%cd /content/\r\n",
        "%rm -rf tf_trt_models\r\n",
        "!git clone --recursive https://github.com/NVIDIA-Jetson/tf_trt_models.git\r\n",
        "%cd tf_trt_models"
      ],
      "execution_count": null,
      "outputs": []
    },
    {
      "cell_type": "markdown",
      "metadata": {
        "id": "TykdD8u6wni-"
      },
      "source": [
        "## Compile TF-TRT Model"
      ]
    },
    {
      "cell_type": "code",
      "metadata": {
        "id": "9WRl9OnBLEIS"
      },
      "source": [
        "!./install.sh python3"
      ],
      "execution_count": null,
      "outputs": []
    },
    {
      "cell_type": "markdown",
      "metadata": {
        "id": "hl7lMDTHwzmJ"
      },
      "source": [
        "## Download Pretrained Model Tensorflow (TF Model Zoo - TF1)\r\n",
        "- [TF Model Zoo TF1](https://github.com/tensorflow/models/blob/master/research/object_detection/g3doc/tf1_detection_zoo.md)"
      ]
    },
    {
      "cell_type": "code",
      "metadata": {
        "id": "F87y9UiPLm_Z"
      },
      "source": [
        "\r\n",
        "%rm -rf /content/tf_models\r\n",
        "%mkdir /content/tf_models\r\n",
        "%cd /content/tf_models\r\n",
        "\r\n",
        "import os\r\n",
        "import shutil\r\n",
        "import glob\r\n",
        "import urllib.request\r\n",
        "import tarfile\r\n",
        "\r\n",
        "\r\n",
        "MODELS = ['ssd_inception_v2_coco_2018_01_28',\r\n",
        "          'ssd_mobilenet_v1_coco_2018_01_28']\r\n",
        "\r\n",
        "DOWNLOAD_BASE = 'http://download.tensorflow.org/models/object_detection/'\r\n",
        "\r\n",
        "for MODEL in MODELS:\r\n",
        "  MODEL_FILE = MODEL + '.tar.gz'\r\n",
        "\r\n",
        "  with urllib.request.urlopen(DOWNLOAD_BASE+MODEL_FILE) as response, open(MODEL_FILE, 'wb') as out_file:\r\n",
        "    shutil.copyfileobj(response, out_file)\r\n",
        "\r\n",
        "  tar = tarfile.open(MODEL_FILE)\r\n",
        "  tar.extractall()\r\n",
        "  tar.close()\r\n",
        "\r\n",
        "  os.remove(MODEL_FILE)"
      ],
      "execution_count": null,
      "outputs": []
    },
    {
      "cell_type": "markdown",
      "metadata": {
        "id": "i81RTluynCCx"
      },
      "source": [
        "## Install Tensorflow Object Detection API"
      ]
    },
    {
      "cell_type": "code",
      "metadata": {
        "id": "3BuOs4p0nBIl"
      },
      "source": [
        "! pip3 uninstall tensorflow-object-detection-api -y\r\n",
        "! pip3 install tensorflow-object-detection-api"
      ],
      "execution_count": null,
      "outputs": []
    },
    {
      "cell_type": "markdown",
      "metadata": {
        "id": "rm4rhsM8zfvg"
      },
      "source": [
        "## Build Inference Graph "
      ]
    },
    {
      "cell_type": "code",
      "metadata": {
        "id": "rs6aw1kUh7Hc"
      },
      "source": [
        "%cd /content/tf_trt_models/\r\n",
        "\r\n",
        "from tf_trt_models.detection import build_detection_graph\r\n",
        "\r\n",
        "MODEL_NAME = \"ssd_mobilenet_v1_coco_2018_01_28\"\r\n",
        "config_path = \"/content/tf_models/%s/pipeline.config\" % MODEL_NAME\r\n",
        "checkpoint_path = \"/content/tf_models/%s/model.ckpt\" % MODEL_NAME\r\n",
        "\r\n",
        "frozen_graph, input_names, output_names = build_detection_graph(\r\n",
        "    config=config_path,\r\n",
        "    checkpoint=checkpoint_path,\r\n",
        "    score_threshold=0.3,\r\n",
        "    batch_size=1\r\n",
        ")"
      ],
      "execution_count": null,
      "outputs": []
    },
    {
      "cell_type": "markdown",
      "metadata": {
        "id": "ojete5s4zrHK"
      },
      "source": [
        "## Crete TF-TRT Graph "
      ]
    },
    {
      "cell_type": "code",
      "metadata": {
        "id": "-39z0qV_iZK4"
      },
      "source": [
        "from tensorflow.python.compiler.tensorrt import trt_convert as trt\r\n",
        "\r\n",
        "trt_graph = trt.create_inference_graph(\r\n",
        "    input_graph_def=frozen_graph,\r\n",
        "    outputs=output_names,\r\n",
        "    max_batch_size=1,\r\n",
        "    max_workspace_size_bytes=1 << 25,\r\n",
        "    precision_mode='FP16',\r\n",
        "    minimum_segment_size=50  \r\n",
        ")"
      ],
      "execution_count": null,
      "outputs": []
    },
    {
      "cell_type": "markdown",
      "metadata": {
        "id": "huDaD810zwzG"
      },
      "source": [
        "## Save TF-TRT Graph"
      ]
    },
    {
      "cell_type": "code",
      "metadata": {
        "id": "JeXRLcH0ioVL"
      },
      "source": [
        "%mkdir -p /content/tf-trt-graph/\r\n",
        "\r\n",
        "with open('/content/tf-trt-graph/%s_trt.pb' % MODEL_NAME, 'wb') as f:\r\n",
        "    f.write(trt_graph.SerializeToString())"
      ],
      "execution_count": null,
      "outputs": []
    },
    {
      "cell_type": "markdown",
      "metadata": {
        "id": "EhEkGTXbz0Jf"
      },
      "source": [
        "## Load TF-TRT Graph"
      ]
    },
    {
      "cell_type": "code",
      "metadata": {
        "id": "dz78MNLCjxCw"
      },
      "source": [
        "import tensorflow as tf \r\n",
        "\r\n",
        "tf_config = tf.ConfigProto()\r\n",
        "tf_config.gpu_options.allow_growth = True\r\n",
        "\r\n",
        "tf_sess = tf.Session(config=tf_config)\r\n",
        "\r\n",
        "tf.import_graph_def(frozen_graph, name='')\r\n",
        "\r\n",
        "tf_input = tf_sess.graph.get_tensor_by_name(input_names[0] + ':0')\r\n",
        "tf_scores = tf_sess.graph.get_tensor_by_name('detection_scores:0')\r\n",
        "tf_boxes = tf_sess.graph.get_tensor_by_name('detection_boxes:0')\r\n",
        "tf_classes = tf_sess.graph.get_tensor_by_name('detection_classes:0')\r\n",
        "tf_num_detections = tf_sess.graph.get_tensor_by_name('num_detections:0')"
      ],
      "execution_count": null,
      "outputs": []
    },
    {
      "cell_type": "markdown",
      "metadata": {
        "id": "d9HpVwYXz4QB"
      },
      "source": [
        "## Load Image"
      ]
    },
    {
      "cell_type": "code",
      "metadata": {
        "id": "k1xwui5DkIHO"
      },
      "source": [
        "%cd /content/\r\n",
        "!gdown --id 1v5A4RIBYxjump3AJ8eoqpTRry4H-VAq6 # download \"zebra.jpg\" from google drive\r\n",
        "\r\n",
        "import numpy as np\r\n",
        "from PIL import Image\r\n",
        "import matplotlib.pyplot as plt\r\n",
        "from google.colab import files\r\n",
        "%matplotlib inline\r\n",
        "\r\n",
        "image = Image.open(\"zebra.jpg\")\r\n",
        "\r\n",
        "image_resized = np.array(image.resize((300, 300)))\r\n",
        "image = np.array(image)\r\n",
        "\r\n",
        "plt.imshow(image)"
      ],
      "execution_count": null,
      "outputs": []
    },
    {
      "cell_type": "markdown",
      "metadata": {
        "id": "Xum5pvzQz6YJ"
      },
      "source": [
        "## Load Class Map data (coco.json)"
      ]
    },
    {
      "cell_type": "code",
      "metadata": {
        "id": "n6OC7-z73q7t"
      },
      "source": [
        "% cd /content/\r\n",
        "!gdown --id 1XyPDMZh-vZEr48QiWJ6ANouSnyxqPRXN"
      ],
      "execution_count": null,
      "outputs": []
    },
    {
      "cell_type": "code",
      "metadata": {
        "id": "-nEV8wH0uW-m"
      },
      "source": [
        "import json \r\n",
        "with open(\"coco.json\", \"r\") as f:\r\n",
        "  name_classes = json.load(f)"
      ],
      "execution_count": null,
      "outputs": []
    },
    {
      "cell_type": "markdown",
      "metadata": {
        "id": "MNENyNiBz8um"
      },
      "source": [
        "## Detect Object on Image "
      ]
    },
    {
      "cell_type": "code",
      "metadata": {
        "id": "XxqkzUcBkXH1"
      },
      "source": [
        "scores, boxes, classes, num_detections = tf_sess.run([tf_scores, \r\n",
        "                                                      tf_boxes, \r\n",
        "                                                      tf_classes, \r\n",
        "                                                      tf_num_detections], \r\n",
        "                                                     feed_dict={\r\n",
        "                                                          tf_input: image_resized[None, ...]\r\n",
        "                                                      })\r\n",
        "\r\n",
        "boxes = boxes[0] # index by 0 to remove batch dimension\r\n",
        "scores = scores[0]\r\n",
        "classes = classes[0]\r\n",
        "num_detections = num_detections[0]"
      ],
      "execution_count": null,
      "outputs": []
    },
    {
      "cell_type": "markdown",
      "metadata": {
        "id": "6ILkUiAt0Bwx"
      },
      "source": [
        "## Display Result"
      ]
    },
    {
      "cell_type": "code",
      "metadata": {
        "id": "oLFRsZjIkmZH"
      },
      "source": [
        "import matplotlib.patches as patches\r\n",
        "\r\n",
        "fig = plt.figure()\r\n",
        "ax = fig.add_subplot(1, 1, 1)\r\n",
        "\r\n",
        "ax.imshow(image)\r\n",
        "\r\n",
        "# plot boxes exceeding score threshold\r\n",
        "for i in range(int(num_detections)):\r\n",
        "    # scale box to image coordinates\r\n",
        "    box = boxes[i] * np.array([image.shape[0], image.shape[1], image.shape[0], image.shape[1]])\r\n",
        "\r\n",
        "    # display rectangle\r\n",
        "    patch = patches.Rectangle((box[1], box[0]), box[3] - box[1], box[2] - box[0], color='g', alpha=0.3)\r\n",
        "    ax.add_patch(patch)\r\n",
        "\r\n",
        "    # display class index and score\r\n",
        "    name = name_classes[str(int(classes[i]))]\r\n",
        "    plt.text(x=box[1] + 10, y=box[2] - 10, s='%s (%0.2f) ' % (name, scores[i]), color='w')\r\n",
        "\r\n",
        "plt.show()"
      ],
      "execution_count": null,
      "outputs": []
    },
    {
      "cell_type": "markdown",
      "metadata": {
        "id": "kvsfmQDl0EKi"
      },
      "source": [
        "## Measure Average Runtime TF-TRT Graph"
      ]
    },
    {
      "cell_type": "code",
      "metadata": {
        "id": "r4RRu2t4k1-9"
      },
      "source": [
        "import time \r\n",
        "\r\n",
        "num_samples = 50\r\n",
        "\r\n",
        "t0 = time.time()\r\n",
        "for i in range(num_samples):\r\n",
        "    scores, boxes, classes, num_detections = tf_sess.run([tf_scores, tf_boxes, tf_classes, tf_num_detections], feed_dict={\r\n",
        "        tf_input: image_resized[None, ...]\r\n",
        "    })\r\n",
        "t1 = time.time()\r\n",
        "print('Average runtime: %f seconds' % (float(t1 - t0) / num_samples))"
      ],
      "execution_count": null,
      "outputs": []
    },
    {
      "cell_type": "markdown",
      "metadata": {
        "id": "kpJUDcHfdrWf"
      },
      "source": [
        "## Close Session"
      ]
    },
    {
      "cell_type": "code",
      "metadata": {
        "id": "arcpLcBmdsXc"
      },
      "source": [
        "tf_sess.close()"
      ],
      "execution_count": null,
      "outputs": []
    },
    {
      "cell_type": "markdown",
      "metadata": {
        "id": "EgT69cm_51rj"
      },
      "source": [
        "## Zip & Download TF-TRT Graph"
      ]
    },
    {
      "cell_type": "code",
      "metadata": {
        "id": "Rrapdrwg5oJe"
      },
      "source": [
        "%cd /content/\r\n",
        "!zip -r tf_trt_graph.zip /content/tf-trt-graph\r\n",
        "    \r\n",
        "from google.colab import files\r\n",
        "files.download(\"tf_trt_graph.zip\")"
      ],
      "execution_count": null,
      "outputs": []
    }
  ]
}